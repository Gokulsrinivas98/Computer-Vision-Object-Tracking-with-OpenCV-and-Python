{
 "cells": [
  {
   "cell_type": "markdown",
   "metadata": {},
   "source": [
    "### Import Libraries"
   ]
  },
  {
   "cell_type": "code",
   "execution_count": 1,
   "metadata": {},
   "outputs": [],
   "source": [
    "import cv2"
   ]
  },
  {
   "cell_type": "markdown",
   "metadata": {},
   "source": [
    "### Define our tracker"
   ]
  },
  {
   "cell_type": "code",
   "execution_count": 2,
   "metadata": {},
   "outputs": [],
   "source": [
    "def ask_for_tracker ():\n",
    "    print('Hi,! What tracker API would you like?')\n",
    "    print('Enter 0 for BOOSTING: ')\n",
    "    print('Enter 1 for MIL: ')\n",
    "    print('Enter 2 for KCF: ')\n",
    "    print('Enter 3 for TLD: ')\n",
    "    print('Enter 4 for MEDIANFLOW: ')\n",
    "    print('Enter 5 for GOTURN: ')\n",
    "    print('Enter 6 for MOSSE: ')\n",
    "    print('Enter 7 for CSRT: ')\n",
    "    \n",
    "    choice = input('Please select your tracker: ')\n",
    "    if choice == '0':\n",
    "        tracker=cv2.TrackerBoosting_create()\n",
    "    elif choice == '1':\n",
    "        tracker=cv2.TrackerMIL_create()\n",
    "    elif choice == '2':\n",
    "        tracker=cv2.TrackerKCF_create()\n",
    "    elif choice == '3':\n",
    "        tracker=cv2.TrackerTLD_create()\n",
    "    elif choice == '4':\n",
    "        tracker=cv2.TrackerMedianFlow_create()\n",
    "    elif choice == '5':\n",
    "        tracker=cv2.TrackerGOTURN_create()\n",
    "    elif choice == '6':\n",
    "        tracker=cv2.TrackerMOOSE_create()\n",
    "    elif choice == '7':\n",
    "        tracker=cv2.TrackerCSRT_create()    \n",
    "        \n",
    "    return tracker   "
   ]
  },
  {
   "cell_type": "markdown",
   "metadata": {},
   "source": [
    "### It's a Kind of Magic"
   ]
  },
  {
   "cell_type": "code",
   "execution_count": 4,
   "metadata": {},
   "outputs": [
    {
     "name": "stdout",
     "output_type": "stream",
     "text": [
      "Hi,! What tracker API would you like?\n",
      "Enter 0 for BOOSTING: \n",
      "Enter 1 for MIL: \n",
      "Enter 2 for KCF: \n",
      "Enter 3 for TLD: \n",
      "Enter 4 for MEDIANFLOW: \n",
      "Enter 5 for GOTURN: \n",
      "Enter 6 for MOSSE: \n",
      "Enter 7 for CSRT: \n",
      "Please select your tracker: 1\n"
     ]
    }
   ],
   "source": [
    "# Tracker\n",
    "tracker = ask_for_tracker()\n",
    "\n",
    "# Tracker name\n",
    "tracker_name = str(tracker).split()[0][1:]\n",
    "\n",
    "# Capture the Video\n",
    "cap = cv2.VideoCapture('Video/Vehicles.mp4')\n",
    "\n",
    "# Read the first frame\n",
    "ret,frame=cap.read()\n",
    "\n",
    "# Select our ROI\n",
    "roi = cv2.selectROI(frame,False)\n",
    "\n",
    "# Initialize tracker\n",
    "ret= tracker.init(frame, roi)\n",
    "\n",
    "\n",
    "# while Loop\n",
    "while True:\n",
    "\n",
    "    # Read the capture\n",
    "    ret, frame= cap.read()\n",
    "    \n",
    "    # update tracker\n",
    "    success, roi = tracker.update(frame)\n",
    "    \n",
    "    # roi -> from tuple to int\n",
    "    (x,y,w,h) = tuple(map(int,roi))\n",
    "    \n",
    "    # Draw rects as tracker moves\n",
    "    if success:\n",
    "        \n",
    "        # Sucess on tracking\n",
    "        pts1=(x,y)\n",
    "        pts2 = (x+w,y+h)\n",
    "        cv2.rectangle(frame,pts1,pts2,(255,25,0),3)\n",
    "    # else\n",
    "    else:\n",
    "        \n",
    "    \n",
    "        # Failure on tracking\n",
    "        cv2.putText(frame, 'Failed to track the object', (100,200), cv2.FONT_HERSHEY_SIMPLEX,1,(25,125,255),3)\n",
    "        \n",
    "    # Display Tracker\n",
    "    cv2.putText(frame,\n",
    "               tracker_name,\n",
    "               (20,400),\n",
    "               cv2.FONT_HERSHEY_SIMPLEX,\n",
    "               1,\n",
    "               (255,255,0),\n",
    "               3)\n",
    "    \n",
    "    # Display result\n",
    "    cv2.imshow(tracker_name,frame)   \n",
    "        \n",
    "    # Exit with Esc button\n",
    "    if cv2.waitKey(50) & 0xFF==27:\n",
    "        break\n",
    "    \n",
    "    \n",
    "# Release the Capture & Destroy All Windows\n",
    "\n",
    "cap.release()\n",
    "cv2.destroyAllWindows()\n",
    "\n"
   ]
  },
  {
   "cell_type": "code",
   "execution_count": null,
   "metadata": {},
   "outputs": [],
   "source": []
  },
  {
   "cell_type": "code",
   "execution_count": null,
   "metadata": {},
   "outputs": [],
   "source": []
  }
 ],
 "metadata": {
  "kernelspec": {
   "display_name": "Python 3",
   "language": "python",
   "name": "python3"
  },
  "language_info": {
   "codemirror_mode": {
    "name": "ipython",
    "version": 3
   },
   "file_extension": ".py",
   "mimetype": "text/x-python",
   "name": "python",
   "nbconvert_exporter": "python",
   "pygments_lexer": "ipython3",
   "version": "3.7.4"
  }
 },
 "nbformat": 4,
 "nbformat_minor": 2
}
